{
  "nbformat": 4,
  "nbformat_minor": 0,
  "metadata": {
    "colab": {
      "provenance": []
    },
    "kernelspec": {
      "name": "python3",
      "display_name": "Python 3"
    },
    "language_info": {
      "name": "python"
    }
  },
  "cells": [
    {
      "cell_type": "code",
      "execution_count": null,
      "metadata": {
        "id": "6vnzy7UiArwM"
      },
      "outputs": [],
      "source": [
        "!pip install ultralytics"
      ]
    },
    {
      "cell_type": "code",
      "source": [
        "!git clone https://github.com/ultralytics/yolov5\n",
        "!cd yolov5\n",
        "pip install -r yolov5/requirements.txt"
      ],
      "metadata": {
        "id": "lZcg5_H0Asuj"
      },
      "execution_count": null,
      "outputs": []
    },
    {
      "cell_type": "code",
      "source": [
        "#Unzipping train, valid and test folders\n",
        "!unzip /content/yolov5/train.zip\n",
        "!unzip /content/yolov5/valid.zip\n",
        "!unzip /content/yolov5/test.zip"
      ],
      "metadata": {
        "id": "COMvchgAAw4c"
      },
      "execution_count": null,
      "outputs": []
    },
    {
      "cell_type": "code",
      "source": [
        "#Running object detection using yolov5s.pt\n",
        "!python detect.py --weights yolov5s.pt --img 4999 --conf 0.25 --source train/images"
      ],
      "metadata": {
        "id": "QNGvglTWAz8A"
      },
      "execution_count": null,
      "outputs": []
    },
    {
      "cell_type": "code",
      "source": [
        "#Training the model on cichlid dataset\n",
        "!python /content/yolov5/train.py --img 512 --batch 24 --epochs 200 --cfg /content/yolov5/models/yolov5s.yaml --data /content/yolov5"
      ],
      "metadata": {
        "id": "NYitDU3CA-hm"
      },
      "execution_count": null,
      "outputs": []
    }
  ]
}
